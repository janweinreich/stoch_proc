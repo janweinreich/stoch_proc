{
 "cells": [
  {
   "cell_type": "code",
   "execution_count": 2,
   "metadata": {},
   "outputs": [
    {
     "data": {
      "text/plain": "\"\\nplt.rc('font',       size=fontsize)    # controls default text sizes\\nplt.rc('axes',  titlesize=fontsize)    # fontsize of the axes title\\nplt.rc('axes',  labelsize=fontsize)    # fontsize of the x and y labels\\nplt.rc('xtick', labelsize=fontsize)    # fontsize of the tick labels\\nplt.rc('ytick', labelsize=fontsize)    # fontsize of the tick labels\\nplt.rc('legend', fontsize=fontsize)    # legend fontsize\\nplt.rc('figure',titlesize=fontsize)    # fontsize of the figure title\\n\""
     },
     "execution_count": 2,
     "metadata": {},
     "output_type": "execute_result"
    }
   ],
   "source": [
    "import os\n",
    "os.environ[\"OMP_NUM_THREADS\"] = \"1\" # export OMP_NUM_THREADS=4\n",
    "os.environ[\"OPENBLAS_NUM_THREADS\"] = \"1\" # export OPENBLAS_NUM_THREADS=4\n",
    "os.environ[\"MKL_NUM_THREADS\"] = \"1\" # export MKL_NUM_THREADS=6\n",
    "os.environ[\"VECLIB_MAXIMUM_THREADS\"] = \"1\" # export VECLIB_MAXIMUM_THREADS=4\n",
    "os.environ[\"NUMEXPR_NUM_THREADS\"] = \"1\" # export NUMEXPR_NUM_THREADS=6\n",
    "\n",
    "\n",
    "import json\n",
    "import requests\n",
    "from pymatgen import MPRester\n",
    "import pandas as pd\n",
    "import json\n",
    "from mendeleev import element\n",
    "import requests\n",
    "import numpy as np\n",
    "import matplotlib.pyplot as plt\n",
    "\n",
    "from pymatgen.core.structure import Structure\n",
    "import random\n",
    "\n",
    "\n",
    "\"\"\"\n",
    "MAKE SURE TO HAVE THE SAME SEED ALWAYS\n",
    "\"\"\"\n",
    "import matplotlib as mpl\n",
    "np.random.seed(666)\n",
    "random.seed(666)\n",
    "from sklearn.model_selection import train_test_split\n",
    "from sklearn import metrics\n",
    "from sklearn.pipeline import Pipeline\n",
    "from sklearn.kernel_ridge import KernelRidge\n",
    "from sklearn.model_selection import GridSearchCV\n",
    "from joblib import Parallel, delayed\n",
    "from sklearn.base import BaseEstimator, RegressorMixin\n",
    "from numpy import linalg as LA\n",
    "import seaborn as sns\n",
    "from sklearn.model_selection import cross_val_score, cross_val_predict\n",
    "import itertools\n",
    "import pandas as pd\n",
    "from tqdm import tqdm\n",
    "import numpy as np\n",
    "\n",
    "\n",
    "\n",
    "\n",
    "fontsize = 18\n",
    "\"\"\"\n",
    "plt.rc('font',       size=fontsize)    # controls default text sizes\n",
    "plt.rc('axes',  titlesize=fontsize)    # fontsize of the axes title\n",
    "plt.rc('axes',  labelsize=fontsize)    # fontsize of the x and y labels\n",
    "plt.rc('xtick', labelsize=fontsize)    # fontsize of the tick labels\n",
    "plt.rc('ytick', labelsize=fontsize)    # fontsize of the tick labels\n",
    "plt.rc('legend', fontsize=fontsize)    # legend fontsize\n",
    "plt.rc('figure',titlesize=fontsize)    # fontsize of the figure title\n",
    "\"\"\""
   ]
  },
  {
   "cell_type": "markdown",
   "metadata": {},
   "source": [
    ". Consider the random number yn = n\n",
    "1/2 Pn\n",
    "i=1 xi\n",
    ", calculated as a sum of independent\n",
    "random numbers xi that are drawn from a uniform distribution with zero mean\n",
    "and σ\n",
    "2 = 1. How quickly, as a function of n, does the distribution of yn converge\n",
    "towards the normal distribution? Plot the difference between the moments hy\n",
    "4\n",
    "n\n",
    "i\n",
    "and hy\n",
    "6\n",
    "n\n",
    "i and their respective asymptotic values, for n ∈ [1, 30]. Also, plot the\n",
    "distribution of yn for n = 1, 2, 3, 5, 10, together with the Normal distribution. If\n",
    "your machine is fast enough, use many tens of thousands of samples to get good\n",
    "statistics (Name_P12.png)."
   ]
  },
  {
   "cell_type": "markdown",
   "metadata": {},
   "source": []
  },
  {
   "cell_type": "code",
   "execution_count": 117,
   "metadata": {},
   "outputs": [
    {
     "name": "stdout",
     "output_type": "stream",
     "text": [
      "1.8069575627623398 1.0010680240822905\n",
      "-0.00012320527836793616\n",
      "2.372101040580961 0.9968181768966912\n",
      "-0.000996830192197899\n",
      "2.5980243716860594 1.0007262371716943\n",
      "-0.001219602752846268\n",
      "2.735429589605645 0.9979450724561448\n",
      "-0.0009194719973108502\n",
      "2.8943461165714597 1.0013325833921802\n",
      "0.004903272506728506\n"
     ]
    }
   ],
   "source": [
    "#https://www.ucd.ie/msc/t4media/Uniform%20Distribution.pdf\n",
    "\n",
    "import scipy\n",
    "def nmoment(x, n):\n",
    "    mean  = np.mean(x)\n",
    "\n",
    "    return np.mean((x-mean)**n)\n",
    "\n",
    "def yield_y(n):\n",
    "    sq3 = np.sqrt(3)\n",
    "\n",
    "    return (n)**(-0.5) * np.sum(np.random.uniform(-sq3, sq3, size =  n))\n",
    "\n",
    "\n",
    "def gen_smpls(N, n):\n",
    "    samples = [yield_y(n) for i in range(N)]\n",
    "    return samples\n",
    "\n",
    "\n",
    "\n",
    "N = 200000\n",
    "nmoment(np.random.normal(size = N),4)\n",
    "nmoment(np.random.normal(size = N),6)\n",
    "#n = 10\n",
    "for n in [1, 2, 3, 5, 10]:\n",
    "\n",
    "    samples = gen_smpls(N, n)\n",
    "    #plt.hist( samples\n",
    "    print(nmoment(samples,4), np.std(samples))\n",
    "    print (np.mean(samples))\n"
   ]
  },
  {
   "cell_type": "code",
   "execution_count": 118,
   "metadata": {},
   "outputs": [
    {
     "data": {
      "text/plain": "2.9857587456819514"
     },
     "execution_count": 118,
     "metadata": {},
     "output_type": "execute_result"
    }
   ],
   "source": []
  }
 ],
 "metadata": {
  "kernelspec": {
   "display_name": "Python 3",
   "language": "python",
   "name": "python3"
  },
  "language_info": {
   "codemirror_mode": {
    "name": "ipython",
    "version": 3
   },
   "file_extension": ".py",
   "mimetype": "text/x-python",
   "name": "python",
   "nbconvert_exporter": "python",
   "pygments_lexer": "ipython3",
   "version": "3.8.5"
  }
 },
 "nbformat": 4,
 "nbformat_minor": 4
}